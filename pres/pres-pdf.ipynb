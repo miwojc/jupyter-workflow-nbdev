{
 "cells": [
  {
   "cell_type": "raw",
   "id": "3b6485dd-2dfe-46f7-99b4-b6239c22662c",
   "metadata": {},
   "source": [
    "---\n",
    "title: \"Jupyter Data Science Workflow, Remastered\"\n",
    "author: \"Michal Wojczulis\"\n",
    "date: 2023-02-20\n",
    "date-format: \"DD-MMM-YYYY\"\n",
    "urlcolor: purple\n",
    "---"
   ]
  },
  {
   "cell_type": "markdown",
   "id": "4b8034ca-de62-4775-9c7b-9a9b1dee1469",
   "metadata": {},
   "source": [
    "## Jupyter Workflow\n",
    "\n",
    "In this session we will revisit the classic workflow by Jake Vanderplas [Reproducible Data Analysis in Jupyter](https://jakevdp.github.io/blog/2017/03/03/reproducible-data-analysis-in-jupyter/).  \n",
    "\n",
    "::: {layout-ncol=1}\n",
    "![](jake.png){width=400px fig-align=\"center\"}\n",
    ":::"
   ]
  },
  {
   "cell_type": "markdown",
   "id": "cf9f4bef-079e-4bb8-afa5-aeaf776a20b6",
   "metadata": {},
   "source": [
    "## Nbdev\n",
    "\n",
    "[Nbdev](https://nbdev.fast.ai)  is a notebook-driven development platform. With nbdev, you get documentation, tests, continuous integration, and packaging.  \n",
    "\n",
    "::: {layout-ncol=1}\n",
    "![](jeremy.png){width=400px fig-align=\"center\"}\n",
    "::: "
   ]
  },
  {
   "cell_type": "markdown",
   "id": "ad640066-3f8b-4a49-a73e-f2377f92fc75",
   "metadata": {},
   "source": [
    "## Agenda\n",
    "\n",
    "- Hands-on Walkthrough"
   ]
  },
  {
   "cell_type": "markdown",
   "id": "25d7204e-6ded-4e7b-a7db-061045b3a127",
   "metadata": {},
   "source": [
    "## Extras\n",
    "\n",
    "- Notebook Best Practices\n",
    "- Qmd Documents\n",
    "- RenderScripts\n",
    "- Git-Friendly Jupyter\n",
    "- Blogging\n",
    "- Pre-Commit Hooks\n",
    "- Documentation Only Sites\n",
    "- Modular nbdev\n",
    "- Nbdev plugins"
   ]
  },
  {
   "cell_type": "markdown",
   "id": "c8fca20d-f5f5-41c3-a5c4-6dac61269585",
   "metadata": {},
   "source": [
    "## Hands-on Walkthrough\n",
    "\n",
    "Live coding.  \n",
    "What could possibly go wrong? :)  \n",
    "\n",
    "\n",
    "\n",
    "[Code repo](https://github.com/miwojc/jupyter-workflow-nbdev-test)"
   ]
  },
  {
   "cell_type": "markdown",
   "id": "bccf5acd-c1fa-4b96-b19f-3dd6e6e2f58e",
   "metadata": {},
   "source": [
    "## Notebook Best Practices\n",
    "### Document parameters with docments\n",
    "\n",
    "With [docments](https://fastcore.fast.ai/docments.html), this function:\n",
    "```py\n",
    "def draw_n(n:int, # Number of cards to draw\n",
    "           replace:bool=True # Draw with replacement?\n",
    "          )->list: # List of cards\n",
    "    \"Draw `n` cards.\"\n",
    "```\n",
    "\n",
    "…would include the following table as part of its documentation:\n",
    "![](docments.png){width=400px fig-align=\"center\"}"
   ]
  },
  {
   "cell_type": "markdown",
   "id": "bd4caa15-3c8b-4f65-a994-6c8b434d0c9d",
   "metadata": {},
   "source": [
    "## Notebook Best Practices\n",
    "### Code examples as tests by adding assertions\n",
    "\n",
    "\n",
    "[fastcore.test](https://fastcore.fast.ai/test.html) provides a set of light wrappers around assert for better notebook tests (for example, they print both objects on error if they differ).\n",
    "\n",
    "Here’s an example using `fastcore.test.test_eq`:\n",
    "```py\n",
    "def inc(x): return x + 1\n",
    "test_eq(inc(3), 4)\n",
    "```"
   ]
  },
  {
   "cell_type": "markdown",
   "id": "4f71c9f7-8a3d-495d-b7ba-54823e5a4667",
   "metadata": {},
   "source": [
    "## Notebook Best Practices\n",
    "### Document error-cases as tests\n",
    "\n",
    "Nbdev recommends documenting errors with actual failing code using [fastcore.test.test_fail](https://fastcore.fast.ai/test.html#test_fail). For example:\n",
    "\n",
    "```py\n",
    "def divide(x, y): return x / y\n",
    "test_fail(lambda: divide(1, 0), contains=\"division by zero\")\n",
    "```"
   ]
  },
  {
   "cell_type": "markdown",
   "id": "e056e405-8b74-4a8e-852f-68c0d71fed98",
   "metadata": {
    "jp-MarkdownHeadingCollapsed": true,
    "tags": []
   },
   "source": [
    "## Qmd documents\n",
    "\n",
    "Qmd documents are Markdown documents, but with extra functionality provided by [Quarto](https://quarto.org/) and [Pandoc](https://pandoc.org/).  \n",
    "For example images arranged into layouts.\n",
    "\n",
    "```\n",
    "::: {layout-ncol=3}\n",
    "![Jupyter](jupyter.jpg){width=50px fig-align=\"left\"}\n",
    "\n",
    "![Vscode](vscode.jpg){width=50px fig-align=\"left\"}\n",
    "\n",
    "![Git](git.jpg){width=50px fig-align=\"left\"}\n",
    ":::\n",
    "```\n",
    "\n",
    "::: {layout-ncol=3}\n",
    "![Jupyter](jupyter.jpg){width=50px fig-align=\"left\"}\n",
    "\n",
    "![Vscode](vscode.jpg){width=50px fig-align=\"left\"}\n",
    "\n",
    "![Git](git.jpg){width=50px fig-align=\"left\"}\n",
    ":::"
   ]
  },
  {
   "cell_type": "markdown",
   "id": "3ee8ccf0-3d4f-4dd5-a314-dbb9b4cbf53a",
   "metadata": {},
   "source": [
    "## RenderScripts\n",
    "\n",
    "RenderScripts are just like regular Python scripts. These scripts are run when your site is rendered.  \n",
    "\n",
    "For example to produce below table from a python list, the following script is used:\n",
    "\n",
    "![](table.png){width=200px fig-align=\"center\"}\n",
    "\n",
    "```py\n",
    "testimonials = [\n",
    "    ('chris-lattner.png', 'Chris Lattner', 'Inventor of Swift and LLVM'),\n",
    "    ('fernando-pérez.jpeg', 'Fernando Pérez', 'Creator of Jupyter')\n",
    "]\n",
    "\n",
    "print(qmd.tbl_row(['','Name','Position']))\n",
    "print(qmd.tbl_sep([1,3,4]))\n",
    "for fname,name,position in testimonials:\n",
    "    print(qmd.tbl_row([im(fname, 60), name, position]))\n",
    "```"
   ]
  },
  {
   "cell_type": "markdown",
   "id": "5dc57f39-cfaa-4704-bf9b-b2b11ddeb801",
   "metadata": {},
   "source": [
    "## Git-Friendly Jupyter\n",
    "\n",
    "Jupyter notebooks don’t work with version control by default. Nbdev provides a set of hooks which enable git-friendly Jupyter notebooks in any git repo.  \n",
    "\n",
    "nbdev provides three hooks to ease Jupyter-git integration.\n",
    "\n",
    "- nbdev_merge on merging notebooks with git, that automatically fixes conflicting outputs and metadata\n",
    "- nbdev_clean on saving notebooks in Jupyter, to automatically clean unwanted metadata and outputs from your notebooks\n",
    "- nbdev_trust after merging notebooks with git, to trust a repo once-off, and all notebooks and changes thereafter"
   ]
  },
  {
   "cell_type": "markdown",
   "id": "9a004770-7834-49c5-a4c2-f4e9783f5cd1",
   "metadata": {},
   "source": [
    "## Blogging\n",
    "\n",
    "Nbdev uses Quarto for blogging via Jupyter Notebooks. Although nbdev is not required to blog with notebooks, it will add some functionality (testing, exporting, adding blog to nbdev project website)"
   ]
  },
  {
   "cell_type": "markdown",
   "id": "757b904b-7d09-4fe2-be07-b5c9442d2109",
   "metadata": {},
   "source": [
    "## Pre-Commit Hooks\n",
    "\n",
    "Nbdev provides hooks for the pre-commit framework to catch and fix uncleaned and unexported notebooks, locally, without having to wait for continuous integration pipelines to run:\n",
    "\n",
    "1. pre-commit runs each hook on your staged changes\n",
    "2. If a hook changes files pre-commit stops the commit, leaving those changes as unstaged\n",
    "3. You can now stage those changes and make any edits required to get pre-commit to pass\n",
    "4. Redo the git commit, and if it succeeds, your commit will be created."
   ]
  },
  {
   "cell_type": "markdown",
   "id": "aea06ef1-af9d-42ad-890d-94a3bc1f2222",
   "metadata": {},
   "source": [
    "## Documentation Only Sites\n",
    "\n",
    "Nbdev can be used for the purposes of documenting existing code. For example, you can use the following features of nbdev without creating a python package:\n",
    "\n",
    "- Custom nbdev directives such as #|hide_line.\n",
    "- Testing with nbdev_test.\n",
    "- Automated entity linking with doclinks.\n",
    "- Rendering API documentation with docments and show_doc."
   ]
  },
  {
   "cell_type": "markdown",
   "id": "658a8b6d-2c3c-49ac-9462-49b480c90b71",
   "metadata": {},
   "source": [
    "## Modular nbdev\n",
    "\n",
    "You can use various nbdev tools separately:\n",
    "\n",
    "- Document existing code with `show_doc`\n",
    "- Testing notebooks with `nbdev_test`\n",
    "- Export code to modules with `nb_export`\n",
    "- Jupyter-git integration\n",
    "- Python packaging, utlities for easy packaging on PyPI, conda, and GitHub"
   ]
  },
  {
   "cell_type": "markdown",
   "id": "d98f6f2f-e15c-40c0-8243-06c3676804b4",
   "metadata": {},
   "source": [
    "## Nbdev plugins\n",
    "\n",
    "With nbdev, it’s possible to customize and extend it further beyond the standard capabilities."
   ]
  }
 ],
 "metadata": {
  "kernelspec": {
   "display_name": "Python 3 (ipykernel)",
   "language": "python",
   "name": "python3"
  },
  "language_info": {
   "codemirror_mode": {
    "name": "ipython",
    "version": 3
   },
   "file_extension": ".py",
   "mimetype": "text/x-python",
   "name": "python",
   "nbconvert_exporter": "python",
   "pygments_lexer": "ipython3",
   "version": "3.10.8"
  }
 },
 "nbformat": 4,
 "nbformat_minor": 5
}
